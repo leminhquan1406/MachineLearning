{
 "cells": [
  {
   "cell_type": "code",
   "execution_count": null,
   "metadata": {},
   "outputs": [],
   "source": [
    "import pandas as pd \n",
    "from sklearn.naive_bayes import GaussianNB\n",
    "from sklearn.feature_extraction.text import CountVectorizer\n",
    "from sklearn.model_selection import train_test_split\n",
    "from sklearn.metrics import accuracy_score\n",
    "data = pd.read_csv('drug200.csv')\n",
    "X = data[['Age','Sex','BP','Cholesterol','Na_to_K']]\n",
    "y = data['Drug']\n",
    "X = pd.get_dummies(X) \n",
    "gnb = GaussianNB()\n",
    "X_train, X_test, y_train, y_test = train_test_split(X, y, test_size=0.2, random_state=42)\n",
    "gau = GaussianNB()\n",
    "gau.fit(X_train, y_train)\n",
    "# Dự đoán trên tập kiểm tra\n",
    "y_pred = gau.predict(X_test)\n",
    "print(f\"Predicted labels: {y_pred}\")\n",
    "print(f\"Actual labels: {y_test.values}\")"
   ]
  }
 ],
 "metadata": {
  "language_info": {
   "name": "python"
  }
 },
 "nbformat": 4,
 "nbformat_minor": 2
}
