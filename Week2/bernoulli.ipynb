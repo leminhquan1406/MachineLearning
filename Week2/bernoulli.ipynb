{
 "cells": [
  {
   "cell_type": "code",
   "execution_count": null,
   "metadata": {},
   "outputs": [],
   "source": [
    "#Câu 1 BernoulliNB\n",
    "import pandas as pd \n",
    "from sklearn.naive_bayes import BernoulliNB\n",
    "from sklearn.feature_extraction.text import CountVectorizer\n",
    "from sklearn.model_selection import train_test_split\n",
    "from sklearn.metrics import accuracy_score\n",
    "data = pd.read_csv('Education.csv')\n",
    "X = data['Text']\n",
    "y = data['Label']\n",
    "X_train, X_test, y_train, y_test = train_test_split(X, y, test_size=0.2, random_state=42)\n",
    "\n",
    "# Chuyển đổi văn bản thành đặc trưng nhị phân\n",
    "vectorizer = CountVectorizer(binary=True)\n",
    "X_train_vectorized = vectorizer.fit_transform(X_train)\n",
    "X_test_vectorized = vectorizer.transform(X_test)\n",
    "\n",
    "# Xây dựng mô hình Bernoulli Naive Bayes\n",
    "brn = BernoulliNB()\n",
    "brn.fit(X_train_vectorized, y_train)\n",
    "\n",
    "# Dự đoán trên tập kiểm tra\n",
    "y_pred = brn.predict(X_test_vectorized)\n",
    "print(f\"Predicted labels: {y_pred}\")\n",
    "print(f\"Actual labels: {y_test.values}\")"
   ]
  }
 ],
 "metadata": {
  "language_info": {
   "name": "python"
  }
 },
 "nbformat": 4,
 "nbformat_minor": 2
}
